{
  "nbformat": 4,
  "nbformat_minor": 0,
  "metadata": {
    "colab": {
      "provenance": []
    },
    "kernelspec": {
      "name": "python3",
      "display_name": "Python 3"
    },
    "language_info": {
      "name": "python"
    }
  },
  "cells": [
    {
      "cell_type": "markdown",
      "source": [
        "Name: Md. Arham Islam Khan\n",
        "\n",
        "ID: 2020-1-60-116"
      ],
      "metadata": {
        "id": "XrMBMuPRCuHC"
      }
    },
    {
      "cell_type": "code",
      "source": [
        "#Graph coloring problem"
      ],
      "metadata": {
        "id": "IIkmrKNUBsf6"
      },
      "execution_count": null,
      "outputs": []
    },
    {
      "cell_type": "code",
      "execution_count": null,
      "metadata": {
        "id": "cxCDpTbUTW5K"
      },
      "outputs": [],
      "source": [
        "def isSafe(graph, color):\n",
        "  \"\"\"\n",
        "  Check if the colored graph is safe or not\n",
        "  \"\"\"\n",
        "  for i in range(8):\n",
        "    for j in range(i+1,8):\n",
        "      if(graph[i][j] and color[j]==color[i]):\n",
        "        return False\n",
        "  return True\n",
        ""
      ]
    },
    {
      "cell_type": "code",
      "source": [
        "def printSolution(color):\n",
        "  print(\"Solution Exists: [Following are the assigned colors]\")\n",
        "  for i in range(8):\n",
        "    print(color[i],end=\" \")"
      ],
      "metadata": {
        "id": "_LooSwmuesIb"
      },
      "execution_count": null,
      "outputs": []
    },
    {
      "cell_type": "code",
      "source": [
        "def graphColoring(graph, m, i, color):\n",
        "  # if current index reached end\n",
        "  if(i==8):\n",
        "    if(isSafe(graph,color)):\n",
        "      printSolution(color)\n",
        "      return True\n",
        "    return False\n",
        "\n",
        "  # Assign each color from 1 to m\n",
        "  for j in range(1, m+1):\n",
        "    color[i] = j\n",
        "    # Recursive call of the vertices\n",
        "    if(graphColoring(graph,m,i+1,color)):\n",
        "      return True\n",
        "    color[i]=0\n",
        "  return False\n"
      ],
      "metadata": {
        "id": "QfALNtdmeula"
      },
      "execution_count": null,
      "outputs": []
    },
    {
      "cell_type": "code",
      "source": [
        "graph=[\n",
        "    [0,1,0,0,1,0,0,0],\n",
        "    [1,0,1,0,1,0,0,0],\n",
        "    [0,1,0,1,1,0,0,0],\n",
        "    [0,0,1,0,1,0,0,0],\n",
        "    [1,1,1,1,0,1,0,0],\n",
        "    [0,0,0,0,1,0,1,1],\n",
        "    [0,0,0,0,0,1,0,0],\n",
        "    [0,0,0,0,0,1,0,0]\n",
        "\n",
        "]\n",
        "m = 3 # number of colors\n",
        "\n",
        "color = [0 for i in range(8)]\n",
        "\n",
        "if (not graphColoring(graph,m,0,color)):\n",
        "  print(\"Solution does not exist\")"
      ],
      "metadata": {
        "colab": {
          "base_uri": "https://localhost:8080/"
        },
        "id": "HyjIvsG5ezta",
        "outputId": "60a191dd-95e9-444a-fdbf-a206caeebeba"
      },
      "execution_count": null,
      "outputs": [
        {
          "output_type": "stream",
          "name": "stdout",
          "text": [
            "Solution Exists: [Following are the assigned colors]\n",
            "1 2 1 2 3 1 2 2 "
          ]
        }
      ]
    },
    {
      "cell_type": "code",
      "source": [
        "# N-knights problem"
      ],
      "metadata": {
        "id": "_5sJaybeB027"
      },
      "execution_count": null,
      "outputs": []
    },
    {
      "cell_type": "markdown",
      "source": [],
      "metadata": {
        "id": "iXfM0JmiCsZd"
      }
    },
    {
      "cell_type": "markdown",
      "source": [],
      "metadata": {
        "id": "hC6j2xbUCs2D"
      }
    },
    {
      "cell_type": "code",
      "source": [
        "global N\n",
        "N = 4\n",
        "\n",
        "def printSolution(board):\n",
        "  \"\"\"Print N queen board\n",
        "  \"\"\"\n",
        "  for i in range(N):\n",
        "    for j in range(N):\n",
        "      print(board[i][j], end= ' ')\n",
        "    print()\n",
        "\n",
        "def isSafe(board,row,col):\n",
        "  for r,c in [(-2,1),(-1,2),(2,1),(2,-1),(1,-2),(-2,-1),(-1,-2),(1,2)]:\n",
        "    try:\n",
        "      if board[row+r][col+r] != 0:\n",
        "        return False\n",
        "    except IndexError:\n",
        "      pass\n",
        "  return True"
      ],
      "metadata": {
        "id": "RNnIvu4mBVU0"
      },
      "execution_count": null,
      "outputs": []
    },
    {
      "cell_type": "code",
      "source": [
        "def solve_nq_util(board,col):\n",
        "  # base case: If all queens are places\n",
        "  # then return true\n",
        "  if col >= N:\n",
        "    return True\n",
        "\n",
        "  # Consider this column and try placing queens in all rows one by one\n",
        "  for i in range(N):\n",
        "    if isSafe(board, i , col):\n",
        "      # Plase this queen in board[i][col]\n",
        "      board[i][col] = 1\n",
        "\n",
        "      # recursive apporach to place rest of the queens\n",
        "      if solve_nq_util(board, col+1) == True:\n",
        "        return True\n",
        "\n",
        "      # if placing queen in board[i][col]\n",
        "      # doesnt lead to a solution, then\n",
        "      # queen from board [i][col]\n",
        "      board[i][col] = 0\n",
        "\n",
        "  # if this queen can not be placed in any row in\n",
        "  # this column col then return false\n",
        "  return False"
      ],
      "metadata": {
        "id": "ICu3-xl-BaQx"
      },
      "execution_count": null,
      "outputs": []
    },
    {
      "cell_type": "code",
      "source": [
        "def solve_nq():\n",
        "  \"\"\"\n",
        "  This function solves the N queen problem using\n",
        "  backtracking. It manily uses solve_nq_util() to\n",
        "  solve the problem.\n",
        "  It returns false if queens cannont be placed, otherwise\n",
        "  return true and placement of queens in the form of 1s.\n",
        "  not that there may be more than one solutions, this function prints\n",
        "  one of the feasible solutions\n",
        "  \"\"\"\n",
        "  board = [[1,1,1,1],\n",
        "           [0,0,0,0],\n",
        "           [0,0,0,0],\n",
        "           [0,0,0,0]\n",
        "           ]\n",
        "  if solve_nq_util(board,0)==False:\n",
        "    print(\"Solution does not exist\")\n",
        "    return False\n",
        "\n",
        "  printSolution(board)\n",
        "  return True\n"
      ],
      "metadata": {
        "id": "E1j-omK2BdtZ"
      },
      "execution_count": null,
      "outputs": []
    },
    {
      "cell_type": "code",
      "source": [
        "solve_nq()"
      ],
      "metadata": {
        "colab": {
          "base_uri": "https://localhost:8080/"
        },
        "id": "CgQdD88IBinq",
        "outputId": "374fded5-77a9-4659-ddfa-94ae5cc28fe9"
      },
      "execution_count": null,
      "outputs": [
        {
          "output_type": "stream",
          "name": "stdout",
          "text": [
            "1 1 1 1 \n",
            "0 0 0 0 \n",
            "0 0 0 0 \n",
            "0 0 0 0 \n"
          ]
        },
        {
          "output_type": "execute_result",
          "data": {
            "text/plain": [
              "True"
            ]
          },
          "metadata": {},
          "execution_count": 8
        }
      ]
    }
  ]
}